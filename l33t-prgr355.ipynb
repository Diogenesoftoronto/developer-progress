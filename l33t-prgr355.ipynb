{
 "cells": [
  {
   "cell_type": "code",
   "execution_count": null,
   "metadata": {},
   "outputs": [],
   "source": [
    "import pandas as pd"
   ]
  },
  {
   "cell_type": "markdown",
   "metadata": {},
   "source": [
    "# Leet code results\n",
    "## A note book for l33t-prgr355\n",
    "[]: # Language: python\n",
    "[]: # Path: l33t-prgr355.py\n",
    "[]: # Books: [TCRC](https://sd.blackball.lv/library/Introduction_to_Algorithms_Third_Edition_(2009).pdf)\n"
   ]
  }
 ],
 "metadata": {
  "language_info": {
   "name": "plaintext"
  },
  "orig_nbformat": 4
 },
 "nbformat": 4,
 "nbformat_minor": 2
}
