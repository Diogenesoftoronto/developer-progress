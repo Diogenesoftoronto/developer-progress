{
 "cells": [
  {
   "cell_type": "markdown",
   "metadata": {},
   "source": [
    "# A note book for recording math progress on Khan Academy"
   ]
  },
  {
   "cell_type": "code",
   "execution_count": null,
   "metadata": {},
   "outputs": [],
   "source": [
    "%%Bash\n",
    "pip install ilua\n",
    "\n",
    "# From source\n",
    "git clone https://github.com/guysv/ilua.git --recurse-submodules\n",
    "cd ilua\n",
    "pip install -e . --user\n",
    "python setup.py install_data -d ~/.local # pip install -e . forgets data_files..."
   ]
  }
 ],
 "metadata": {
  "language_info": {
   "name": "plaintext"
  },
  "orig_nbformat": 4
 },
 "nbformat": 4,
 "nbformat_minor": 2
}
